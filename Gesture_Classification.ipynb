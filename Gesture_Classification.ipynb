{
 "cells": [
  {
   "cell_type": "code",
   "execution_count": 2,
   "metadata": {},
   "outputs": [],
   "source": [
    "from imgaug import augmenters as iaugs\n",
    "import numpy as np\n",
    "import matplotlib.pyplot as plt"
   ]
  },
  {
   "cell_type": "code",
   "execution_count": 3,
   "metadata": {},
   "outputs": [
    {
     "name": "stderr",
     "output_type": "stream",
     "text": [
      "Using TensorFlow backend.\n"
     ]
    }
   ],
   "source": [
    "from keras.models import Sequential\n",
    "from keras.layers import *"
   ]
  },
  {
   "cell_type": "code",
   "execution_count": 4,
   "metadata": {},
   "outputs": [],
   "source": [
    "seq = iaugs.Sequential([\n",
    "    \n",
    "    iaugs.Crop(px=(0, 10)),                                    # cropping images from each side by 0 to 10 pixels randomly\n",
    "    iaugs.Fliplr(0.4),                                         # horizontally flipping 40% of the images\n",
    "    iaugs.GaussianBlur(sigma=(0, 1.0)),                        # Gaussian blur images with a sigma of 0 to 1.0\n",
    "                                                                \n",
    "    iaugs.Affine(                                                  # Affine transformations \n",
    "        scale={\"x\": (1.0, 1.2), \"y\": (1.0, 1.2)},\n",
    "        translate_percent={\"x\": (-0.3, 0.3), \"y\": (-0.3, 0.3)},\n",
    "        rotate=(-15, 15)\n",
    "        )\n",
    "    ])"
   ]
  },
  {
   "cell_type": "code",
   "execution_count": 10,
   "metadata": {},
   "outputs": [
    {
     "name": "stdout",
     "output_type": "stream",
     "text": [
      "Model: \"sequential_3\"\n",
      "_________________________________________________________________\n",
      "Layer (type)                 Output Shape              Param #   \n",
      "=================================================================\n",
      "conv2d_7 (Conv2D)            (None, 98, 98, 30)        840       \n",
      "_________________________________________________________________\n",
      "max_pooling2d_7 (MaxPooling2 (None, 49, 49, 30)        0         \n",
      "_________________________________________________________________\n",
      "conv2d_8 (Conv2D)            (None, 47, 47, 60)        16260     \n",
      "_________________________________________________________________\n",
      "max_pooling2d_8 (MaxPooling2 (None, 23, 23, 60)        0         \n",
      "_________________________________________________________________\n",
      "conv2d_9 (Conv2D)            (None, 21, 21, 70)        37870     \n",
      "_________________________________________________________________\n",
      "max_pooling2d_9 (MaxPooling2 (None, 10, 10, 70)        0         \n",
      "_________________________________________________________________\n",
      "global_average_pooling2d_3 ( (None, 70)                0         \n",
      "_________________________________________________________________\n",
      "dense_5 (Dense)              (None, 70)                4970      \n",
      "_________________________________________________________________\n",
      "dense_6 (Dense)              (None, 5)                 355       \n",
      "=================================================================\n",
      "Total params: 60,295\n",
      "Trainable params: 60,295\n",
      "Non-trainable params: 0\n",
      "_________________________________________________________________\n"
     ]
    }
   ],
   "source": [
    "model = Sequential()\n",
    "\n",
    "model.add(Conv2D(30,(3,3),activation='relu',input_shape=(100,100,3)))\n",
    "model.add(MaxPooling2D((2,2)))\n",
    "\n",
    "model.add(Conv2D(60,(3,3),activation='relu'))\n",
    "model.add(MaxPooling2D((2,2)))\n",
    "\n",
    "model.add(Conv2D(70,(3,3),activation='relu'))\n",
    "model.add(MaxPooling2D((2,2)))\n",
    "model.add(GlobalAveragePooling2D())\n",
    "model.add(Dense(70,activation='relu'))\n",
    "model.add(Dense(5,activation='softmax'))\n",
    "\n",
    "\n",
    "model.summary()"
   ]
  },
  {
   "cell_type": "code",
   "execution_count": 11,
   "metadata": {},
   "outputs": [],
   "source": [
    "model.compile(optimizer=\"adam\",loss='categorical_crossentropy',metrics=['accuracy'])"
   ]
  },
  {
   "cell_type": "code",
   "execution_count": 12,
   "metadata": {},
   "outputs": [
    {
     "name": "stdout",
     "output_type": "stream",
     "text": [
      "Found 1564 images belonging to 5 classes.\n",
      "Found 273 images belonging to 5 classes.\n"
     ]
    }
   ],
   "source": [
    "## Data Preparation using Keras\n",
    "from keras.preprocessing.image import ImageDataGenerator\n",
    "\n",
    "#Specify what operations to apply on each image when it is loaded\n",
    "train_datagen = ImageDataGenerator(rescale=1.0/255)\n",
    "\n",
    "train_generator = train_datagen.flow_from_directory('Train',batch_size=40,target_size=(100,100),\n",
    "                                          class_mode='categorical',shuffle=True)\n",
    "\n",
    "\n",
    "val_datagen = ImageDataGenerator(rescale=1.0/255)\n",
    "val_generator = val_datagen.flow_from_directory('Val',class_mode='categorical',batch_size=16,\n",
    "                                                target_size=(100,100),shuffle=True)"
   ]
  },
  {
   "cell_type": "code",
   "execution_count": 13,
   "metadata": {},
   "outputs": [
    {
     "name": "stdout",
     "output_type": "stream",
     "text": [
      "Epoch 1/100\n",
      "33/33 [==============================] - 13s 383ms/step - loss: 1.6043 - accuracy: 0.2477 - val_loss: 1.5568 - val_accuracy: 0.1875\n",
      "\n",
      "Epoch 00001: val_accuracy improved from -inf to 0.18750, saving model to ./best_model.h5\n",
      "Epoch 2/100\n",
      "33/33 [==============================] - 11s 330ms/step - loss: 1.5689 - accuracy: 0.2928 - val_loss: 1.5790 - val_accuracy: 0.2690\n",
      "\n",
      "Epoch 00002: val_accuracy improved from 0.18750 to 0.26897, saving model to ./best_model.h5\n",
      "Epoch 3/100\n",
      "33/33 [==============================] - 8s 256ms/step - loss: 1.2983 - accuracy: 0.3956 - val_loss: 1.4498 - val_accuracy: 0.3000\n",
      "\n",
      "Epoch 00003: val_accuracy improved from 0.26897 to 0.30000, saving model to ./best_model.h5\n",
      "Epoch 4/100\n",
      "33/33 [==============================] - 9s 262ms/step - loss: 1.0940 - accuracy: 0.4492 - val_loss: 1.7991 - val_accuracy: 0.2690\n",
      "\n",
      "Epoch 00004: val_accuracy did not improve from 0.30000\n",
      "Epoch 5/100\n",
      "33/33 [==============================] - 9s 273ms/step - loss: 1.0836 - accuracy: 0.4712 - val_loss: 1.4332 - val_accuracy: 0.3063\n",
      "\n",
      "Epoch 00005: val_accuracy improved from 0.30000 to 0.30625, saving model to ./best_model.h5\n",
      "Epoch 6/100\n",
      "33/33 [==============================] - 10s 298ms/step - loss: 1.0529 - accuracy: 0.4930 - val_loss: 1.4281 - val_accuracy: 0.3517\n",
      "\n",
      "Epoch 00006: val_accuracy improved from 0.30625 to 0.35172, saving model to ./best_model.h5\n",
      "Epoch 7/100\n",
      "33/33 [==============================] - 9s 266ms/step - loss: 1.0071 - accuracy: 0.5202 - val_loss: 1.3833 - val_accuracy: 0.3125\n",
      "\n",
      "Epoch 00007: val_accuracy did not improve from 0.35172\n",
      "Epoch 8/100\n",
      "33/33 [==============================] - 10s 296ms/step - loss: 0.9233 - accuracy: 0.5584 - val_loss: 1.4860 - val_accuracy: 0.3862\n",
      "\n",
      "Epoch 00008: val_accuracy improved from 0.35172 to 0.38621, saving model to ./best_model.h5\n",
      "Epoch 9/100\n",
      "33/33 [==============================] - 11s 341ms/step - loss: 0.9112 - accuracy: 0.5537 - val_loss: 0.9879 - val_accuracy: 0.3862\n",
      "\n",
      "Epoch 00009: val_accuracy did not improve from 0.38621\n",
      "Epoch 10/100\n",
      "33/33 [==============================] - 9s 271ms/step - loss: 0.9544 - accuracy: 0.5780 - val_loss: 1.1200 - val_accuracy: 0.4875\n",
      "\n",
      "Epoch 00010: val_accuracy improved from 0.38621 to 0.48750, saving model to ./best_model.h5\n",
      "Epoch 11/100\n",
      "33/33 [==============================] - 8s 257ms/step - loss: 0.8400 - accuracy: 0.6394 - val_loss: 1.2444 - val_accuracy: 0.4069\n",
      "\n",
      "Epoch 00011: val_accuracy did not improve from 0.48750\n",
      "Epoch 12/100\n",
      "33/33 [==============================] - 9s 283ms/step - loss: 0.7623 - accuracy: 0.7205 - val_loss: 1.3523 - val_accuracy: 0.4250\n",
      "\n",
      "Epoch 00012: val_accuracy did not improve from 0.48750\n",
      "Epoch 13/100\n",
      "33/33 [==============================] - 9s 264ms/step - loss: 0.7265 - accuracy: 0.7235 - val_loss: 1.0260 - val_accuracy: 0.4069\n",
      "\n",
      "Epoch 00013: val_accuracy did not improve from 0.48750\n",
      "Epoch 14/100\n",
      "33/33 [==============================] - 8s 252ms/step - loss: 0.7202 - accuracy: 0.7292 - val_loss: 1.2240 - val_accuracy: 0.5250\n",
      "\n",
      "Epoch 00014: val_accuracy improved from 0.48750 to 0.52500, saving model to ./best_model.h5\n",
      "Epoch 15/100\n",
      "33/33 [==============================] - 11s 329ms/step - loss: 0.6624 - accuracy: 0.7305 - val_loss: 1.0736 - val_accuracy: 0.5034\n",
      "\n",
      "Epoch 00015: val_accuracy did not improve from 0.52500\n",
      "Epoch 16/100\n",
      "33/33 [==============================] - 8s 258ms/step - loss: 0.6110 - accuracy: 0.7695 - val_loss: 1.5613 - val_accuracy: 0.3625\n",
      "\n",
      "Epoch 00016: val_accuracy did not improve from 0.52500\n",
      "Epoch 17/100\n",
      "33/33 [==============================] - 9s 270ms/step - loss: 0.5691 - accuracy: 0.8076 - val_loss: 1.6776 - val_accuracy: 0.4414\n",
      "\n",
      "Epoch 00017: val_accuracy did not improve from 0.52500\n",
      "Epoch 18/100\n",
      "33/33 [==============================] - 9s 259ms/step - loss: 0.5420 - accuracy: 0.8139 - val_loss: 0.6535 - val_accuracy: 0.4414\n",
      "\n",
      "Epoch 00018: val_accuracy did not improve from 0.52500\n",
      "Epoch 19/100\n",
      "33/33 [==============================] - 11s 331ms/step - loss: 0.5639 - accuracy: 0.7944 - val_loss: 1.6206 - val_accuracy: 0.4437\n",
      "\n",
      "Epoch 00019: val_accuracy did not improve from 0.52500\n",
      "Epoch 20/100\n",
      "33/33 [==============================] - 9s 262ms/step - loss: 0.4714 - accuracy: 0.8520 - val_loss: 0.8168 - val_accuracy: 0.5310\n",
      "\n",
      "Epoch 00020: val_accuracy improved from 0.52500 to 0.53103, saving model to ./best_model.h5\n",
      "Epoch 21/100\n",
      "33/33 [==============================] - 11s 328ms/step - loss: 0.4846 - accuracy: 0.8379 - val_loss: 0.9863 - val_accuracy: 0.5250\n",
      "\n",
      "Epoch 00021: val_accuracy did not improve from 0.53103\n",
      "Epoch 22/100\n",
      "33/33 [==============================] - 10s 299ms/step - loss: 0.4852 - accuracy: 0.8438 - val_loss: 1.1166 - val_accuracy: 0.4621\n",
      "\n",
      "Epoch 00022: val_accuracy did not improve from 0.53103\n",
      "Epoch 23/100\n",
      "33/33 [==============================] - 9s 268ms/step - loss: 0.4711 - accuracy: 0.8386 - val_loss: 1.0407 - val_accuracy: 0.6062\n",
      "\n",
      "Epoch 00023: val_accuracy improved from 0.53103 to 0.60625, saving model to ./best_model.h5\n",
      "Epoch 24/100\n",
      "33/33 [==============================] - 10s 300ms/step - loss: 0.5590 - accuracy: 0.8123 - val_loss: 1.3766 - val_accuracy: 0.3724\n",
      "\n",
      "Epoch 00024: val_accuracy did not improve from 0.60625\n",
      "Epoch 25/100\n",
      "33/33 [==============================] - 9s 271ms/step - loss: 0.4892 - accuracy: 0.8341 - val_loss: 1.4475 - val_accuracy: 0.5875\n",
      "\n",
      "Epoch 00025: val_accuracy did not improve from 0.60625\n",
      "Epoch 26/100\n",
      "33/33 [==============================] - 9s 271ms/step - loss: 0.4309 - accuracy: 0.8438 - val_loss: 1.1048 - val_accuracy: 0.4966\n",
      "\n",
      "Epoch 00026: val_accuracy did not improve from 0.60625\n",
      "Epoch 27/100\n",
      "33/33 [==============================] - 9s 271ms/step - loss: 0.4131 - accuracy: 0.8536 - val_loss: 0.3970 - val_accuracy: 0.5172\n",
      "\n",
      "Epoch 00027: val_accuracy did not improve from 0.60625\n",
      "Epoch 28/100\n",
      "33/33 [==============================] - 9s 272ms/step - loss: 0.3875 - accuracy: 0.8705 - val_loss: 1.4746 - val_accuracy: 0.5688\n",
      "\n",
      "Epoch 00028: val_accuracy did not improve from 0.60625\n",
      "Epoch 29/100\n",
      "33/33 [==============================] - 10s 298ms/step - loss: 0.3445 - accuracy: 0.8754 - val_loss: 1.0937 - val_accuracy: 0.4414\n",
      "\n",
      "Epoch 00029: val_accuracy did not improve from 0.60625\n",
      "Epoch 30/100\n",
      "33/33 [==============================] - 9s 273ms/step - loss: 0.3599 - accuracy: 0.8707 - val_loss: 0.8340 - val_accuracy: 0.4563\n",
      "\n",
      "Epoch 00030: val_accuracy did not improve from 0.60625\n",
      "Epoch 31/100\n",
      "33/33 [==============================] - 10s 315ms/step - loss: 0.3631 - accuracy: 0.8674 - val_loss: 1.1093 - val_accuracy: 0.4345\n",
      "\n",
      "Epoch 00031: val_accuracy did not improve from 0.60625\n",
      "Epoch 32/100\n",
      "33/33 [==============================] - 10s 310ms/step - loss: 0.3744 - accuracy: 0.8646 - val_loss: 1.1238 - val_accuracy: 0.5125\n",
      "\n",
      "Epoch 00032: val_accuracy did not improve from 0.60625\n",
      "Epoch 33/100\n",
      "33/33 [==============================] - 9s 287ms/step - loss: 0.3086 - accuracy: 0.8964 - val_loss: 0.9993 - val_accuracy: 0.6069\n",
      "\n",
      "Epoch 00033: val_accuracy improved from 0.60625 to 0.60690, saving model to ./best_model.h5\n",
      "Epoch 34/100\n",
      "33/33 [==============================] - 9s 277ms/step - loss: 0.3538 - accuracy: 0.8674 - val_loss: 1.7581 - val_accuracy: 0.4563\n",
      "\n",
      "Epoch 00034: val_accuracy did not improve from 0.60690\n",
      "Epoch 35/100\n",
      "33/33 [==============================] - 11s 342ms/step - loss: 0.3056 - accuracy: 0.8917 - val_loss: 1.1381 - val_accuracy: 0.4966\n",
      "\n",
      "Epoch 00035: val_accuracy did not improve from 0.60690\n",
      "Epoch 36/100\n",
      "33/33 [==============================] - 9s 271ms/step - loss: 0.3261 - accuracy: 0.8692 - val_loss: 1.0982 - val_accuracy: 0.5448\n",
      "\n",
      "Epoch 00036: val_accuracy did not improve from 0.60690\n",
      "Restoring model weights from the end of the best epoch\n",
      "Epoch 00036: early stopping\n"
     ]
    }
   ],
   "source": [
    "from keras.callbacks import ModelCheckpoint,EarlyStopping\n",
    "\n",
    "modelcheckpoint = ModelCheckpoint(\"./best_model.h5\", monitor=\"val_accuracy\", verbose=1, save_best_only=True)\n",
    "early_stop = EarlyStopping(monitor=\"val_accuracy\", min_delta=0.005, patience=13, verbose=1, restore_best_weights=True)\n",
    "CallBks= [modelcheckpoint, early_stop]\n",
    "\n",
    "hist = model.fit_generator(train_generator,epochs=100,steps_per_epoch= 33,shuffle=True,\n",
    "                                    validation_data=val_generator,validation_steps=10,callbacks=CallBks)"
   ]
  },
  {
   "cell_type": "code",
   "execution_count": 15,
   "metadata": {},
   "outputs": [
    {
     "data": {
      "image/png": "[encoded data removed]",
      "text/plain": [
       "<Figure size 432x288 with 1 Axes>"
      ]
     },
     "metadata": {
      "needs_background": "light"
     },
     "output_type": "display_data"
    }
   ],
   "source": [
    "res = hist.history\n",
    "\n",
    "plt.plot(res['val_accuracy'], label = \"val_accuracy\")\n",
    "plt.plot(res['accuracy'], label = \"accuracy\")\n",
    "plt.legend()\n",
    "plt.show()"
   ]
  },
  {
   "cell_type": "code",
   "execution_count": 16,
   "metadata": {},
   "outputs": [],
   "source": [
    "NameToIndices = train_generator.class_indices\n",
    "IndicesToName = dict((NameToIndices[i],i) for i in NameToIndices)"
   ]
  },
  {
   "cell_type": "code",
   "execution_count": 18,
   "metadata": {},
   "outputs": [
    {
     "data": {
      "text/plain": [
       "{0: 'Fist', 1: 'OK', 2: 'One', 3: 'Perfect', 4: 'Two'}"
      ]
     },
     "execution_count": 18,
     "metadata": {},
     "output_type": "execute_result"
    }
   ],
   "source": [
    "IndicesToName"
   ]
  },
  {
   "cell_type": "code",
   "execution_count": 19,
   "metadata": {},
   "outputs": [
    {
     "data": {
      "text/plain": [
       "58"
      ]
     },
     "execution_count": 19,
     "metadata": {},
     "output_type": "execute_result"
    }
   ],
   "source": [
    "datafolder = \"./Test/\"\n",
    "\n",
    "import os\n",
    "import cv2\n",
    "\n",
    "images = os.listdir(datafolder)\n",
    "len(images)"
   ]
  },
  {
   "cell_type": "code",
   "execution_count": 20,
   "metadata": {},
   "outputs": [],
   "source": [
    "X_test = np.zeros((58,100,100,3))\n",
    "labels = np.zeros((58,))\n",
    "\n",
    "for i in range(len(images)) :\n",
    "    \n",
    "    img = cv2.imread(datafolder+images[i])\n",
    "    newImg = cv2.resize(img,(100,100))\n",
    "    X_test[i] = newImg\n",
    "    \n",
    "labels[:8] = 2\n",
    "labels[8:24] = 4\n",
    "labels[24:44] = 0\n",
    "labels[44:] = 1"
   ]
  },
  {
   "cell_type": "code",
   "execution_count": 21,
   "metadata": {},
   "outputs": [],
   "source": [
    "batch = X_test[10]\n",
    "batch = np.reshape(batch,(1,*batch.shape))\n",
    "\n",
    "y_pred = model.predict(batch)"
   ]
  },
  {
   "cell_type": "code",
   "execution_count": 22,
   "metadata": {},
   "outputs": [
    {
     "data": {
      "text/plain": [
       "array([[0., 0., 1., 0., 0.]], dtype=float32)"
      ]
     },
     "execution_count": 22,
     "metadata": {},
     "output_type": "execute_result"
    }
   ],
   "source": [
    "y_pred"
   ]
  },
  {
   "cell_type": "code",
   "execution_count": null,
   "metadata": {},
   "outputs": [],
   "source": []
  }
 ],
 "metadata": {
  "kernelspec": {
   "display_name": "Python 3",
   "language": "python",
   "name": "python3"
  },
  "language_info": {
   "codemirror_mode": {
    "name": "ipython",
    "version": 3
   },
   "file_extension": ".py",
   "mimetype": "text/x-python",
   "name": "python",
   "nbconvert_exporter": "python",
   "pygments_lexer": "ipython3",
   "version": "3.7.6"
  }
 },
 "nbformat": 4,
 "nbformat_minor": 2
}
