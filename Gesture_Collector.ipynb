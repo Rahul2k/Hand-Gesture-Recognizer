{
 "cells": [
  {
   "cell_type": "code",
   "execution_count": 1,
   "metadata": {},
   "outputs": [],
   "source": [
    "import numpy as np\n",
    "import cv2\n",
    "import os"
   ]
  },
  {
   "cell_type": "code",
   "execution_count": 14,
   "metadata": {},
   "outputs": [
    {
     "name": "stdout",
     "output_type": "stream",
     "text": [
      "Enter Name : Twodas\n"
     ]
    }
   ],
   "source": [
    "name = input(\"Enter Name : \")\n",
    "os.mkdir(\"./Data/Val/\"+name)"
   ]
  },
  {
   "cell_type": "code",
   "execution_count": 17,
   "metadata": {},
   "outputs": [],
   "source": [
    "cam = cv2.VideoCapture(0)\n",
    "\n",
    "datafolder = \"./Test/\"\n",
    "\n",
    "cnt = 0\n",
    "skip = 0\n",
    "\n",
    "while (True) :\n",
    "    \n",
    "    ret, frame = cam.read()\n",
    "    \n",
    "    if not ret :\n",
    "        continue\n",
    "        \n",
    "    skip+=1\n",
    "    \n",
    "    x = int(frame.shape[0]/8.5)          # x,y are black portions in my Webcam.... corresponding to a ratio of 8.5\n",
    "    y = int(frame.shape[0]-x)\n",
    "    \n",
    "    photo_section = frame[x:y,:]   \n",
    "    \n",
    "    \n",
    "#   Press any button except ESC to click photos\n",
    "    \n",
    "    if(skip%10==0) :\n",
    "        cv2.imwrite(datafolder+str(cnt)+\".jpeg\",photo_section)\n",
    "        cnt+=1\n",
    "        \n",
    "    cv2.imshow(\"Faces\",photo_section)\n",
    "        \n",
    "    key = cv2.waitKey(1)\n",
    "    \n",
    "    if(key%256==27) :\n",
    "        break\n",
    "    else :\n",
    "        continue\n",
    "    \n",
    "    \n",
    "cam.release()\n",
    "cv2.destroyAllWindows()\n",
    "\n"
   ]
  },
  {
   "cell_type": "code",
   "execution_count": null,
   "metadata": {},
   "outputs": [],
   "source": []
  }
 ],
 "metadata": {
  "kernelspec": {
   "display_name": "Python 3",
   "language": "python",
   "name": "python3"
  },
  "language_info": {
   "codemirror_mode": {
    "name": "ipython",
    "version": 3
   },
   "file_extension": ".py",
   "mimetype": "text/x-python",
   "name": "python",
   "nbconvert_exporter": "python",
   "pygments_lexer": "ipython3",
   "version": "3.7.6"
  }
 },
 "nbformat": 4,
 "nbformat_minor": 2
}
